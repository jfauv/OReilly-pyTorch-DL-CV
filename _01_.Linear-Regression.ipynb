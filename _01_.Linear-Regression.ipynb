{
  "nbformat": 4,
  "nbformat_minor": 0,
  "metadata": {
    "colab": {
      "provenance": []
    },
    "kernelspec": {
      "name": "python3",
      "display_name": "Python 3"
    },
    "language_info": {
      "name": "python"
    }
  },
  "cells": [
    {
      "cell_type": "code",
      "execution_count": 1,
      "metadata": {
        "id": "uDjMf5OOMVod"
      },
      "outputs": [],
      "source": [
        "import torch\n",
        "from torch.nn import Linear"
      ]
    },
    {
      "cell_type": "code",
      "source": [
        "# Data\n",
        "import numpy as np\n",
        "import matplotlib.pyplot as plt\n",
        "torch.manual_seed(1)\n",
        "x = torch.randn(100, 1) * 10\n",
        "y = x + torch.randn(100, 1) * 3\n",
        "plt.figure(figsize=(4,3))\n",
        "plt.plot(x, y, 'o')"
      ],
      "metadata": {
        "colab": {
          "base_uri": "https://localhost:8080/",
          "height": 309
        },
        "id": "d7GRM8CjPd24",
        "outputId": "1e82d35f-3562-4742-86ef-f5ddc2ff6f5f"
      },
      "execution_count": 2,
      "outputs": [
        {
          "output_type": "execute_result",
          "data": {
            "text/plain": [
              "[<matplotlib.lines.Line2D at 0x7a1d73f1e810>]"
            ]
          },
          "metadata": {},
          "execution_count": 2
        },
        {
          "output_type": "display_data",
          "data": {
            "text/plain": [
              "<Figure size 400x300 with 1 Axes>"
            ],
            "image/png": "[encoded data removed]"
          },
          "metadata": {}
        }
      ]
    },
    {
      "cell_type": "code",
      "source": [
        "# Custom Models\n",
        "import torch.nn as nn\n",
        "class LR(nn.Module):\n",
        "  def __init__(self, input_size, output_size):\n",
        "    super().__init__()\n",
        "    self.linear = nn.Linear(input_size, output_size)\n",
        "\n",
        "  def forward(self, x):\n",
        "    pred = self.linear(x)\n",
        "    return pred"
      ],
      "metadata": {
        "id": "TtqAyyu6NH2q"
      },
      "execution_count": 3,
      "outputs": []
    },
    {
      "cell_type": "code",
      "source": [
        "# Create model\n",
        "model = LR(1, 1)\n",
        "print(model)"
      ],
      "metadata": {
        "colab": {
          "base_uri": "https://localhost:8080/"
        },
        "id": "p6xwf9J5N4xA",
        "outputId": "d72ecda0-989b-4f40-f2ed-04ce7df15dfc"
      },
      "execution_count": 4,
      "outputs": [
        {
          "output_type": "stream",
          "name": "stdout",
          "text": [
            "LR(\n",
            "  (linear): Linear(in_features=1, out_features=1, bias=True)\n",
            ")\n"
          ]
        }
      ]
    },
    {
      "cell_type": "code",
      "source": [
        "criterion = nn.MSELoss()\n",
        "optimizer = torch.optim.SGD(model.parameters(), lr=0.01)"
      ],
      "metadata": {
        "id": "6lV63i1IXa5m"
      },
      "execution_count": 5,
      "outputs": []
    },
    {
      "cell_type": "code",
      "source": [
        "optimizer.state_dict()"
      ],
      "metadata": {
        "colab": {
          "base_uri": "https://localhost:8080/"
        },
        "id": "ldxros68q6xT",
        "outputId": "c15cc1c9-fafa-464d-b38e-aa8b8ca49bc7"
      },
      "execution_count": 6,
      "outputs": [
        {
          "output_type": "execute_result",
          "data": {
            "text/plain": [
              "{'state': {},\n",
              " 'param_groups': [{'lr': 0.01,\n",
              "   'momentum': 0,\n",
              "   'dampening': 0,\n",
              "   'weight_decay': 0,\n",
              "   'nesterov': False,\n",
              "   'maximize': False,\n",
              "   'foreach': None,\n",
              "   'differentiable': False,\n",
              "   'fused': None,\n",
              "   'params': [0, 1]}]}"
            ]
          },
          "metadata": {},
          "execution_count": 6
        }
      ]
    },
    {
      "cell_type": "code",
      "source": [
        "# def criterion(yhat,y):\n",
        "#    return torch.mean((yhat-y)**2)"
      ],
      "metadata": {
        "id": "ZW8ASy5JjvQO"
      },
      "execution_count": 7,
      "outputs": []
    },
    {
      "cell_type": "code",
      "source": [
        "losses = []\n",
        "epochs = 100\n",
        "for epoch in range(epochs):\n",
        "  y_pred = model.forward(x)\n",
        "  loss = criterion(y_pred, y)\n",
        "  losses.append(loss.item())\n",
        "  if epoch % 10 == 0:\n",
        "    print(\"epoch:\", epoch, \"loss:\", loss.item())\n",
        "  optimizer.zero_grad() # w.grad.data.zero_()\n",
        "  loss.backward()\n",
        "  optimizer.step() # w.data -= lr * w.grad.data"
      ],
      "metadata": {
        "colab": {
          "base_uri": "https://localhost:8080/"
        },
        "id": "AjSnu5MBZEDv",
        "outputId": "377f8814-7990-46ea-d02a-e76370e1c73d"
      },
      "execution_count": 8,
      "outputs": [
        {
          "output_type": "stream",
          "name": "stdout",
          "text": [
            "epoch: 0 loss: 10.461551666259766\n",
            "epoch: 10 loss: 10.294576644897461\n",
            "epoch: 20 loss: 10.1857328414917\n",
            "epoch: 30 loss: 10.114751815795898\n",
            "epoch: 40 loss: 10.068442344665527\n",
            "epoch: 50 loss: 10.038217544555664\n",
            "epoch: 60 loss: 10.018478393554688\n",
            "epoch: 70 loss: 10.005584716796875\n",
            "epoch: 80 loss: 9.997156143188477\n",
            "epoch: 90 loss: 9.991643905639648\n"
          ]
        }
      ]
    },
    {
      "cell_type": "code",
      "source": [
        "# Parameters\n",
        "w, b = model.parameters()\n",
        "w1 = w.item() # w[0][0].item()\n",
        "b1 = b.item() # b[0].item()\n",
        "w1, b1"
      ],
      "metadata": {
        "colab": {
          "base_uri": "https://localhost:8080/"
        },
        "id": "FCU1qIpLTM3f",
        "outputId": "dfb852d4-c9d5-4d4a-f401-bd181a4ba1c6"
      },
      "execution_count": 9,
      "outputs": [
        {
          "output_type": "execute_result",
          "data": {
            "text/plain": [
              "(1.0453596115112305, 0.06317011266946793)"
            ]
          },
          "metadata": {},
          "execution_count": 9
        }
      ]
    },
    {
      "cell_type": "code",
      "source": [
        "print(list(model.parameters()))"
      ],
      "metadata": {
        "colab": {
          "base_uri": "https://localhost:8080/"
        },
        "id": "7o3mgyjWTJK-",
        "outputId": "1de7635f-702c-4d93-dd36-36b2c22d8785"
      },
      "execution_count": 10,
      "outputs": [
        {
          "output_type": "stream",
          "name": "stdout",
          "text": [
            "[Parameter containing:\n",
            "tensor([[1.0454]], requires_grad=True), Parameter containing:\n",
            "tensor([0.0632], requires_grad=True)]\n"
          ]
        }
      ]
    },
    {
      "cell_type": "code",
      "source": [
        "plt.plot(range(epochs), losses)\n",
        "plt.xlabel('Epochs')\n",
        "plt.ylabel('Loss')"
      ],
      "metadata": {
        "colab": {
          "base_uri": "https://localhost:8080/",
          "height": 467
        },
        "id": "liSSpqQOa00t",
        "outputId": "a59d77f0-34f5-4da9-e284-93d2da80a0dc"
      },
      "execution_count": 11,
      "outputs": [
        {
          "output_type": "execute_result",
          "data": {
            "text/plain": [
              "Text(0, 0.5, 'Loss')"
            ]
          },
          "metadata": {},
          "execution_count": 11
        },
        {
          "output_type": "display_data",
          "data": {
            "text/plain": [
              "<Figure size 640x480 with 1 Axes>"
            ],
            "image/png": "[encoded data removed]"
          },
          "metadata": {}
        }
      ]
    },
    {
      "cell_type": "code",
      "source": [
        "x1 = torch.tensor([[-30.0], [30.0]])\n",
        "y1 = model.forward(x1)\n",
        "plt.plot(x1.detach().numpy(), y1.detach().numpy(), 'r', label='Linear Regression')\n",
        "plt.scatter(x.detach().numpy(), y.detach().numpy(), label='Data')\n",
        "plt.legend()"
      ],
      "metadata": {
        "colab": {
          "base_uri": "https://localhost:8080/",
          "height": 448
        },
        "id": "6IfEsk89cRCl",
        "outputId": "7f2de92c-b278-4123-f6be-572c9159bf23"
      },
      "execution_count": 12,
      "outputs": [
        {
          "output_type": "execute_result",
          "data": {
            "text/plain": [
              "<matplotlib.legend.Legend at 0x7a1d680362d0>"
            ]
          },
          "metadata": {},
          "execution_count": 12
        },
        {
          "output_type": "display_data",
          "data": {
            "text/plain": [
              "<Figure size 640x480 with 1 Axes>"
            ],
            "image/png": "[encoded data removed]"
          },
          "metadata": {}
        }
      ]
    },
    {
      "cell_type": "code",
      "source": [
        "# 1-point prediction\n",
        "v = torch.tensor([2.0])\n",
        "y = model.forward(v)\n",
        "y"
      ],
      "metadata": {
        "colab": {
          "base_uri": "https://localhost:8080/"
        },
        "id": "hYLQjNo6Ofyc",
        "outputId": "846992c3-6dae-4ee5-fc4a-1eed44fd9ab2"
      },
      "execution_count": 13,
      "outputs": [
        {
          "output_type": "execute_result",
          "data": {
            "text/plain": [
              "tensor([2.1539], grad_fn=<ViewBackward0>)"
            ]
          },
          "metadata": {},
          "execution_count": 13
        }
      ]
    },
    {
      "cell_type": "code",
      "source": [
        "# 3-point prediction\n",
        "v = torch.tensor([[2.0],[3.3],[0.1]])\n",
        "y = model.forward(v)\n",
        "y"
      ],
      "metadata": {
        "colab": {
          "base_uri": "https://localhost:8080/"
        },
        "id": "C1H-Lb6sO6aW",
        "outputId": "adb78379-27d7-4bc4-96ca-54a24fda0a9c"
      },
      "execution_count": 14,
      "outputs": [
        {
          "output_type": "execute_result",
          "data": {
            "text/plain": [
              "tensor([[2.1539],\n",
              "        [3.5129],\n",
              "        [0.1677]], grad_fn=<AddmmBackward0>)"
            ]
          },
          "metadata": {},
          "execution_count": 14
        }
      ]
    },
    {
      "cell_type": "code",
      "source": [
        "# Parameters\n",
        "print(\"Python dictionary: \",model.state_dict())\n",
        "print(\"keys: \",model.state_dict().keys())\n",
        "print(\"values: \",model.state_dict().values())"
      ],
      "metadata": {
        "colab": {
          "base_uri": "https://localhost:8080/"
        },
        "id": "ThtvX2UzfVyG",
        "outputId": "df56d316-56f8-4bc4-aee8-a52533d62555"
      },
      "execution_count": 15,
      "outputs": [
        {
          "output_type": "stream",
          "name": "stdout",
          "text": [
            "Python dictionary:  OrderedDict([('linear.weight', tensor([[1.0454]])), ('linear.bias', tensor([0.0632]))])\n",
            "keys:  odict_keys(['linear.weight', 'linear.bias'])\n",
            "values:  odict_values([tensor([[1.0454]]), tensor([0.0632])])\n"
          ]
        }
      ]
    },
    {
      "cell_type": "code",
      "source": [
        "print(\"weight:\", model.linear.weight)\n",
        "print(\"Value: \", model.state_dict()['linear.weight'])\n",
        "print(\"bias:\", model.linear.bias)\n",
        "print(\"Value: \", model.state_dict()['linear.bias'])"
      ],
      "metadata": {
        "colab": {
          "base_uri": "https://localhost:8080/"
        },
        "id": "JyOdP2maflpu",
        "outputId": "db8dbcca-d97b-4f43-d402-21978c2a4ccc"
      },
      "execution_count": 16,
      "outputs": [
        {
          "output_type": "stream",
          "name": "stdout",
          "text": [
            "weight: Parameter containing:\n",
            "tensor([[1.0454]], requires_grad=True)\n",
            "Value:  tensor([[1.0454]])\n",
            "bias: Parameter containing:\n",
            "tensor([0.0632], requires_grad=True)\n",
            "Value:  tensor([0.0632])\n"
          ]
        }
      ]
    },
    {
      "cell_type": "code",
      "source": [
        "list(model.parameters())"
      ],
      "metadata": {
        "colab": {
          "base_uri": "https://localhost:8080/"
        },
        "id": "i4hojK3Mhadc",
        "outputId": "d369c397-637d-4a95-ec24-e6b3ea641ff6"
      },
      "execution_count": 17,
      "outputs": [
        {
          "output_type": "execute_result",
          "data": {
            "text/plain": [
              "[Parameter containing:\n",
              " tensor([[1.0454]], requires_grad=True),\n",
              " Parameter containing:\n",
              " tensor([0.0632], requires_grad=True)]"
            ]
          },
          "metadata": {},
          "execution_count": 17
        }
      ]
    }
  ]
}